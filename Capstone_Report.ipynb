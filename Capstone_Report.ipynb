{
  "nbformat": 4,
  "nbformat_minor": 0,
  "metadata": {
    "colab": {
      "name": "Capstone Report.ipynb",
      "provenance": [],
      "collapsed_sections": [],
      "authorship_tag": "ABX9TyOCZVPomjdms1ZU5paghnF0",
      "include_colab_link": true
    },
    "kernelspec": {
      "name": "python3",
      "display_name": "Python 3"
    },
    "language_info": {
      "name": "python"
    }
  },
  "cells": [
    {
      "cell_type": "markdown",
      "metadata": {
        "id": "view-in-github",
        "colab_type": "text"
      },
      "source": [
        "<a href=\"https://colab.research.google.com/github/klfontus/Coursera_Capstone/blob/main/Capstone_Report.ipynb\" target=\"_parent\"><img src=\"https://colab.research.google.com/assets/colab-badge.svg\" alt=\"Open In Colab\"/></a>"
      ]
    },
    {
      "cell_type": "markdown",
      "metadata": {
        "id": "orPnX132wBAr"
      },
      "source": [
        "# <center> Tale of Two Capitols: Sacramento vs. Austin Report"
      ]
    },
    {
      "cell_type": "markdown",
      "metadata": {
        "id": "Mt2NBUPa4Gu7"
      },
      "source": [
        "### **Introduction**"
      ]
    },
    {
      "cell_type": "markdown",
      "metadata": {
        "id": "c5odhYCqwQFs"
      },
      "source": [
        "Recently, there has been  discussion in the media and among political figures about the so-called \"Exodus\" of California resdents to other states. Texas is often reported as one of the main destinations of these migrants, as their state income tax is zero and California's is the highest in the nation. It was brought to the forefront of the nation's attention when Tesla, Inc. announced they would be moving their base of operations from its birthplace in Silicon Valley to Texas, in response to COVID-19 restrictions placed on their factory by the CA State government. This has yet to happen, but it helped to spark conversation and led to claims that California's population has been decreasing as a result of California policies.\n",
        "\n",
        "Looking at data from the US Census Bureau, although the rate has been steadily decreasing, California has always had a postive population growth from year to year. The only exception was the year 2020, which saw a 0.18% decline in population, with a net loss of about 69,500 people. Now, California is the most populous state in the country with more than 39 million people, and a loss of less than one percent of the population does not seem too significant. It still attracts new residents by the thousands every year, due to its attractive weather and its many opportunities in all career sectors. But with the population previously growing at smaller and smaller rates, and now with a negative rate of growth, we may soon be looking at a larger decline than expected. \n",
        "\n",
        "Texas and California are very different states politically, culturally, economically, and socially. It would be difficult to predict the population trends based on these factors. I am not aiming to predecit whether or not people will be moving out of state. My question is, will California migrants coming from a particular city be able to find a new home that is similar to their last in Texas?\n",
        "\n",
        "I will be comparing the capital cities of Texas and California, namely Austin and Sacramento. The main difference between them is their size, Austin has almost double the geographical and population size of Sacramento. If you take into account the Sacramento metropolitan area, they are of comparable scale. However for the purposes of this project, I would like to focus on the more urban area of the city, as I believe it will better mimic the demographics of Austin than if I also included the suburban areas. There are some important similarities though. They are both the administrative capitals of their state, meaning a lot of their occupants work in different governmental capacities. They are also both home to large universities, which greatly influences the population, and they have a similar geographical profile, being along a river. "
      ]
    },
    {
      "cell_type": "markdown",
      "metadata": {
        "id": "J_FKkNXu5JZL"
      },
      "source": [
        "### **Data**"
      ]
    },
    {
      "cell_type": "markdown",
      "metadata": {
        "id": "moDWNhgv5jK3"
      },
      "source": [
        "Although my focus is on the contents of the different neighborhoods of each city, I will also be taking a quick look at raw population data. I will compare the growth of each state's population over the past twenty years and that of the two cities and see if we can predict future population trends. This data is easily attainable on different sites thanks to the US Census Bureau.\n",
        "\n",
        "The FourSqaure data will be the main thing I look at while making my analysis. I will look at the most common venues of each neighborhood and create clusters to group together similar areas. When I have created clusters to my liking for both cities, I will do a direct comparison of the clusters of each cities, to see if I can find similarities that would help attract a Sacramento resident to Austin. \n",
        "\n",
        "As an example, I could make a cluster"
      ]
    },
    {
      "cell_type": "code",
      "metadata": {
        "id": "HIkUtq5C6fm5"
      },
      "source": [
        ""
      ],
      "execution_count": null,
      "outputs": []
    }
  ]
}